{
 "cells": [
  {
   "cell_type": "markdown",
   "metadata": {},
   "source": [
    "## Import des librairies et chargement de la data"
   ]
  },
  {
   "cell_type": "code",
   "execution_count": 10,
   "metadata": {},
   "outputs": [
    {
     "name": "stderr",
     "output_type": "stream",
     "text": [
      "[nltk_data] Downloading package punkt to\n",
      "[nltk_data]     C:\\Users\\a\\AppData\\Roaming\\nltk_data...\n",
      "[nltk_data]   Package punkt is already up-to-date!\n",
      "[nltk_data] Downloading package stopwords to\n",
      "[nltk_data]     C:\\Users\\a\\AppData\\Roaming\\nltk_data...\n",
      "[nltk_data]   Package stopwords is already up-to-date!\n",
      "[nltk_data] Downloading package wordnet to\n",
      "[nltk_data]     C:\\Users\\a\\AppData\\Roaming\\nltk_data...\n",
      "[nltk_data]   Package wordnet is already up-to-date!\n"
     ]
    }
   ],
   "source": [
    "import pandas as pd\n",
    "import re\n",
    "import nltk\n",
    "from nltk.corpus import stopwords\n",
    "from nltk.tokenize import word_tokenize\n",
    "from nltk.stem import WordNetLemmatizer\n",
    "import numpy as np\n",
    "import tensorflow as tf\n",
    "from tensorflow.keras.models import Sequential\n",
    "from tensorflow.keras.layers import Embedding, LSTM, Dense, Dropout\n",
    "from sklearn.model_selection import train_test_split\n",
    "from scipy.stats import pearsonr\n",
    "from sklearn.metrics import cohen_kappa_score\n",
    "from tensorflow.keras.models import load_model\n",
    "from sklearn.metrics import accuracy_score, precision_score, recall_score, f1_score\n",
    "import seaborn as sns\n",
    "import matplotlib.pyplot as plt\n",
    "\n",
    "nltk.download('punkt')\n",
    "nltk.download('stopwords')\n",
    "nltk.download('wordnet')\n",
    "\n",
    "\n",
    "data = pd.read_csv('dev.txt', sep='\\t')\n"
   ]
  },
  {
   "cell_type": "markdown",
   "metadata": {},
   "source": [
    "## Prétraitement"
   ]
  },
  {
   "cell_type": "code",
   "execution_count": 11,
   "metadata": {},
   "outputs": [],
   "source": [
    "\n",
    "def preprocess_text(text):\n",
    "    text = text.lower()\n",
    "    text = re.sub(r'[^a-zA-Z\\s]', '', text)\n",
    "    # Tokenization\n",
    "    tokens = word_tokenize(text)\n",
    "    # Supprimer les stopwords\n",
    "    stop_words = set(stopwords.words('english'))\n",
    "    tokens = [word for word in tokens if word not in stop_words]\n",
    "    # Lemmatisation\n",
    "    lemmatizer = WordNetLemmatizer()\n",
    "    tokens = [lemmatizer.lemmatize(word) for word in tokens]\n",
    "    \n",
    "    preprocessed_text = ' '.join(tokens)\n",
    "    return preprocessed_text\n",
    "\n",
    "data['Tweet_Preprocessed'] = data['Tweet'].apply(preprocess_text)\n"
   ]
  },
  {
   "cell_type": "markdown",
   "metadata": {},
   "source": [
    "## Enregistrement des données"
   ]
  },
  {
   "cell_type": "code",
   "execution_count": 12,
   "metadata": {},
   "outputs": [
    {
     "name": "stdout",
     "output_type": "stream",
     "text": [
      "                                  Tweet_Preprocessed  \\\n",
      "0  ryanair site crash everytime try book help tel...   \n",
      "1  theme week ask lord strength amp perspective p...   \n",
      "2  f announcing late hard make manchester organis...   \n",
      "3  greatest happiness seeing someone like stay ha...   \n",
      "4  omg grateful education ive back school two day...   \n",
      "\n",
      "                                     Intensity Class  \n",
      "0  -3: very negative emotional state can be inferred  \n",
      "1  -2: moderately negative emotional state can be...  \n",
      "2  -3: very negative emotional state can be inferred  \n",
      "3   3: very positive emotional state can be inferred  \n",
      "4  1: slightly positive emotional state can be in...  \n"
     ]
    }
   ],
   "source": [
    "data_preprocessed = data[['Tweet_Preprocessed', 'Intensity Class']]\n",
    "\n",
    "data_preprocessed.to_csv('preprocessed_data2.csv', index=False)\n",
    "\n",
    "print(data_preprocessed.head(5))\n"
   ]
  },
  {
   "cell_type": "markdown",
   "metadata": {},
   "source": [
    "## Spliter la data"
   ]
  },
  {
   "cell_type": "code",
   "execution_count": 13,
   "metadata": {},
   "outputs": [],
   "source": [
    "\n",
    "data = pd.read_csv('preprocessed_data2.csv')\n",
    "\n",
    "X = data['Tweet_Preprocessed']\n",
    "y = pd.get_dummies(data['Intensity Class'])  # Convertir les labels en one-hot encoding\n",
    "\n",
    "X_train, X_test, y_train, y_test = train_test_split(X, y, test_size=0.2, random_state=42)\n"
   ]
  },
  {
   "cell_type": "markdown",
   "metadata": {},
   "source": [
    "## Tokenisation et vectorisation"
   ]
  },
  {
   "cell_type": "code",
   "execution_count": 14,
   "metadata": {},
   "outputs": [],
   "source": [
    "# Tokenisation et vectorisation des données\n",
    "tokenizer = tf.keras.preprocessing.text.Tokenizer()\n",
    "tokenizer.fit_on_texts(X_train)\n",
    "X_train = tokenizer.texts_to_sequences(X_train)\n",
    "X_test = tokenizer.texts_to_sequences(X_test)\n",
    "\n",
    "# Padding pour avoir des séquences de longueur égale\n",
    "max_len = 34  \n",
    "X_train = tf.keras.preprocessing.sequence.pad_sequences(X_train, maxlen=max_len)\n",
    "X_test = tf.keras.preprocessing.sequence.pad_sequences(X_test, maxlen=max_len)\n"
   ]
  },
  {
   "cell_type": "markdown",
   "metadata": {},
   "source": [
    "## Chargement et évaluation du modèle"
   ]
  },
  {
   "cell_type": "code",
   "execution_count": 15,
   "metadata": {},
   "outputs": [
    {
     "name": "stdout",
     "output_type": "stream",
     "text": [
      "Epoch 1/12\n",
      "\u001b[1m12/12\u001b[0m \u001b[32m━━━━━━━━━━━━━━━━━━━━\u001b[0m\u001b[37m\u001b[0m \u001b[1m7s\u001b[0m 111ms/step - accuracy: 0.0900 - loss: 1.9783 - val_accuracy: 0.1667 - val_loss: 1.9415\n",
      "Epoch 2/12\n",
      "\u001b[1m12/12\u001b[0m \u001b[32m━━━━━━━━━━━━━━━━━━━━\u001b[0m\u001b[37m\u001b[0m \u001b[1m0s\u001b[0m 30ms/step - accuracy: 0.1466 - loss: 1.9424 - val_accuracy: 0.2000 - val_loss: 1.9289\n",
      "Epoch 3/12\n",
      "\u001b[1m12/12\u001b[0m \u001b[32m━━━━━━━━━━━━━━━━━━━━\u001b[0m\u001b[37m\u001b[0m \u001b[1m0s\u001b[0m 29ms/step - accuracy: 0.1471 - loss: 1.9189 - val_accuracy: 0.1444 - val_loss: 1.9217\n",
      "Epoch 4/12\n",
      "\u001b[1m12/12\u001b[0m \u001b[32m━━━━━━━━━━━━━━━━━━━━\u001b[0m\u001b[37m\u001b[0m \u001b[1m0s\u001b[0m 34ms/step - accuracy: 0.2389 - loss: 1.9098 - val_accuracy: 0.1333 - val_loss: 1.9193\n",
      "Epoch 5/12\n",
      "\u001b[1m12/12\u001b[0m \u001b[32m━━━━━━━━━━━━━━━━━━━━\u001b[0m\u001b[37m\u001b[0m \u001b[1m1s\u001b[0m 44ms/step - accuracy: 0.2534 - loss: 1.8867 - val_accuracy: 0.1222 - val_loss: 1.9193\n",
      "Epoch 6/12\n",
      "\u001b[1m12/12\u001b[0m \u001b[32m━━━━━━━━━━━━━━━━━━━━\u001b[0m\u001b[37m\u001b[0m \u001b[1m0s\u001b[0m 31ms/step - accuracy: 0.2549 - loss: 1.8741 - val_accuracy: 0.1111 - val_loss: 1.9216\n",
      "Epoch 7/12\n",
      "\u001b[1m12/12\u001b[0m \u001b[32m━━━━━━━━━━━━━━━━━━━━\u001b[0m\u001b[37m\u001b[0m \u001b[1m0s\u001b[0m 26ms/step - accuracy: 0.2446 - loss: 1.8828 - val_accuracy: 0.1111 - val_loss: 1.9259\n",
      "Epoch 8/12\n",
      "\u001b[1m12/12\u001b[0m \u001b[32m━━━━━━━━━━━━━━━━━━━━\u001b[0m\u001b[37m\u001b[0m \u001b[1m0s\u001b[0m 27ms/step - accuracy: 0.2527 - loss: 1.8426 - val_accuracy: 0.1111 - val_loss: 1.9311\n",
      "Epoch 9/12\n",
      "\u001b[1m12/12\u001b[0m \u001b[32m━━━━━━━━━━━━━━━━━━━━\u001b[0m\u001b[37m\u001b[0m \u001b[1m0s\u001b[0m 28ms/step - accuracy: 0.2280 - loss: 1.8709 - val_accuracy: 0.1111 - val_loss: 1.9354\n",
      "Epoch 10/12\n",
      "\u001b[1m12/12\u001b[0m \u001b[32m━━━━━━━━━━━━━━━━━━━━\u001b[0m\u001b[37m\u001b[0m \u001b[1m1s\u001b[0m 69ms/step - accuracy: 0.2260 - loss: 1.8713 - val_accuracy: 0.1111 - val_loss: 1.9408\n",
      "Epoch 11/12\n",
      "\u001b[1m12/12\u001b[0m \u001b[32m━━━━━━━━━━━━━━━━━━━━\u001b[0m\u001b[37m\u001b[0m \u001b[1m0s\u001b[0m 31ms/step - accuracy: 0.2642 - loss: 1.8495 - val_accuracy: 0.1111 - val_loss: 1.9471\n",
      "Epoch 12/12\n",
      "\u001b[1m12/12\u001b[0m \u001b[32m━━━━━━━━━━━━━━━━━━━━\u001b[0m\u001b[37m\u001b[0m \u001b[1m0s\u001b[0m 33ms/step - accuracy: 0.2543 - loss: 1.8455 - val_accuracy: 0.1111 - val_loss: 1.9503\n",
      "\u001b[1m3/3\u001b[0m \u001b[32m━━━━━━━━━━━━━━━━━━━━\u001b[0m\u001b[37m\u001b[0m \u001b[1m0s\u001b[0m 16ms/step - accuracy: 0.1298 - loss: 1.9484\n",
      "Accuracy: 0.1111111119389534\n"
     ]
    }
   ],
   "source": [
    "# Charger le modèle LSTM pré-entraîné\n",
    "pretrained_model = load_model('emotion_classification_model.keras')\n",
    "\n",
    "# Geler les couches inférieures pour éviter l'entraînement\n",
    "for layer in pretrained_model.layers:\n",
    "    layer.trainable = False\n",
    "\n",
    "# Ajouter de nouvelles couches au-dessus des couches pré-entraînées\n",
    "new_model = Sequential()\n",
    "new_model.add(pretrained_model)\n",
    "new_model.add(Dense(64, activation='relu'))  \n",
    "new_model.add(Dense(7, activation='softmax')) \n",
    "\n",
    "new_model.compile(optimizer='adam', loss='categorical_crossentropy', metrics=['accuracy'])\n",
    "\n",
    "new_model.fit(X_train, y_train, batch_size=32, epochs=12, validation_data=(X_test, y_test))\n",
    "\n",
    "# Évaluation du modèle\n",
    "loss,accuracy = new_model.evaluate(X_test, y_test)\n",
    "print(\"Accuracy:\", accuracy)\n"
   ]
  },
  {
   "cell_type": "markdown",
   "metadata": {},
   "source": [
    "## Prédiction sur des données test"
   ]
  },
  {
   "cell_type": "code",
   "execution_count": 16,
   "metadata": {},
   "outputs": [
    {
     "name": "stdout",
     "output_type": "stream",
     "text": [
      "\u001b[1m128/128\u001b[0m \u001b[32m━━━━━━━━━━━━━━━━━━━━\u001b[0m\u001b[37m\u001b[0m \u001b[1m3s\u001b[0m 17ms/step\n",
      "[3 3 3 ... 3 1 3]\n"
     ]
    }
   ],
   "source": [
    "with open('data_test.txt', 'r', encoding='utf-8') as file:\n",
    "    data_test = file.readlines()[1:]\n",
    "\n",
    "# Prétraitement des données de test\n",
    "X_test = tokenizer.texts_to_sequences(data_test)\n",
    "X_test = tf.keras.preprocessing.sequence.pad_sequences(X_test, maxlen=max_len)\n",
    "\n",
    "# Faire des prédictions sur les données de test\n",
    "predictions = new_model.predict(X_test)\n",
    "\n",
    "predicted_classes = np.argmax(predictions, axis=1)\n",
    "print(predicted_classes)\n",
    "\n",
    "np.savetxt('predictions.txt', predicted_classes, fmt='%d')\n"
   ]
  },
  {
   "cell_type": "markdown",
   "metadata": {},
   "source": [
    "## Partie évaluation "
   ]
  },
  {
   "cell_type": "code",
   "execution_count": 17,
   "metadata": {},
   "outputs": [
    {
     "name": "stdout",
     "output_type": "stream",
     "text": [
      "Accuracy: 0.0624385447394297\n",
      "Pearson correlation coefficient: -0.13441874017251088\n",
      "Weighted quadratic kappa: -0.03885772114832875\n"
     ]
    }
   ],
   "source": [
    "y_true = [int(line.split('\\t')[-1].split(':')[0].split()[0]) for line in lines]\n",
    "with open('data_test.txt', 'r', encoding='utf-8') as file:\n",
    "     lines = file.readlines()[1:]  # Exclure la première ligne\n",
    "\n",
    "accuracy = accuracy_score(y_true, predicted_classes)\n",
    "\n",
    "print(\"Accuracy:\", accuracy)\n",
    "\n",
    "pearson_corr, _ = pearsonr(y_true, predicted_classes)\n",
    "print(\"Pearson correlation coefficient:\", pearson_corr)\n",
    "\n",
    "weighted_kappa = cohen_kappa_score(y_true, predicted_classes, weights='quadratic')\n",
    "print(\"Weighted quadratic kappa:\", weighted_kappa)\n"
   ]
  },
  {
   "cell_type": "markdown",
   "metadata": {},
   "source": [
    "## Partie visualisation données test"
   ]
  },
  {
   "cell_type": "code",
   "execution_count": 18,
   "metadata": {},
   "outputs": [
    {
     "name": "stderr",
     "output_type": "stream",
     "text": [
      "C:\\Users\\a\\AppData\\Local\\Temp\\ipykernel_3492\\1782786601.py:6: FutureWarning: \n",
      "\n",
      "Passing `palette` without assigning `hue` is deprecated and will be removed in v0.14.0. Assign the `y` variable to `hue` and set `legend=False` for the same effect.\n",
      "\n",
      "  sns.countplot(y=y_true, data=data_test, palette=\"viridis\")\n"
     ]
    },
    {
     "data": {
      "image/png": "[encoded data removed]",
      "text/plain": [
       "<Figure size 1000x600 with 1 Axes>"
      ]
     },
     "metadata": {},
     "output_type": "display_data"
    }
   ],
   "source": [
    "data_test = pd.read_csv('data_test.txt', delimiter='\\t')\n",
    "\n",
    "y_true = [int(line.split('\\t')[-1].split(':')[0].split()[0]) for line in lines]\n",
    "\n",
    "plt.figure(figsize=(10, 6))\n",
    "sns.countplot(y=y_true, data=data_test, palette=\"viridis\")\n",
    "plt.title(\"Distribution des classes d'intensité dans les données de test\")\n",
    "plt.xlabel(\"Nombre d'occurrences\")\n",
    "plt.ylabel(\"Classe d'intensité\")\n",
    "plt.show()"
   ]
  }
 ],
 "metadata": {
  "kernelspec": {
   "display_name": "Python 3",
   "language": "python",
   "name": "python3"
  },
  "language_info": {
   "codemirror_mode": {
    "name": "ipython",
    "version": 3
   },
   "file_extension": ".py",
   "mimetype": "text/x-python",
   "name": "python",
   "nbconvert_exporter": "python",
   "pygments_lexer": "ipython3",
   "version": "3.11.3"
  }
 },
 "nbformat": 4,
 "nbformat_minor": 2
}
